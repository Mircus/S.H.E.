# SHE - Simplicial Hyperstructure Engine 🧭
**Showcase Notebook: Beyond Graphs into Simplicial Topology**

Welcome to **SHE (Simplicial Hyperstructure Engine)** - a computational framework for modeling, analyzing, and learning from complex systems using simplicial complexes and topological data analysis.

## 🚀 Installation & Setup

```bash
# Install core dependencies
pip install toponetx torch torch-geometric
pip install giotto-tda gudhi
pip install networkx pandas numpy matplotlib seaborn
pip install plotly streamlit # For visualization
pip install pytorch-lightning # For training
```

```python
# Import SHE components
import numpy as np
import pandas as pd
import matplotlib.pyplot as plt
import seaborn as sns
import networkx as nx
import torch
import warnings
warnings.filterwarnings('ignore')

# Import SHE modules (assuming they're in your path)
from she_core import SHEEngine, SHESimplicialComplex, SHEDataLoader, SHEConfig
from she_neural import SHESimplicialConvolutionalNetwork, SHENeuralEngine

# Set random seeds for reproducibility
np.random.seed(42)
torch.manual_seed(42)

print("🧭 SHE - Simplicial Hyperstructure Engine")
print("=" * 50)
```

## 🎯 Chapter 1: From Networks to Simplicial Complexes

### Traditional Graph Analysis vs SHE

```python
# Create a social network example
def create_social_network():
    """Create a sample social network with teams and collaborations"""
    G = nx.Graph()
    
    # Add individuals
    people = ['Alice', 'Bob', 'Charlie', 'Diana', 'Eve', 'Frank', 'Grace', 'Henry']
    G.add_nodes_from(people)
    
    # Add pairwise connections
    connections = [
        ('Alice', 'Bob'), ('Alice', 'Charlie'), ('Bob', 'Charlie'),  # Team 1
        ('Diana', 'Eve'), ('Diana', 'Frank'), ('Eve', 'Frank'),      # Team 2
        ('Grace', 'Henry'),                                           # Team 3
        ('Alice', 'Diana'), ('Charlie', 'Eve'), ('Bob', 'Grace')     # Cross-team
    ]
    G.add_edges_from(connections)
    
    return G

# Traditional graph analysis
G = create_social_network()
print("📊 Traditional Graph Analysis:")
print(f"Nodes: {G.number_of_nodes()}")
print(f"Edges: {G.number_of_edges()}")
print(f"Clustering coefficient: {nx.average_clustering(G):.3f}")
print(f"Connected components: {nx.number_connected_components(G)}")

# Visualize the network
plt.figure(figsize=(12, 5))

plt.subplot(1, 2, 1)
pos = nx.spring_layout(G, seed=42)
nx.draw(G, pos, with_labels=True, node_color='lightblue', 
        node_size=1000, font_size=10, font_weight='bold')
plt.title("Traditional Graph View")

# Now with SHE - detect triangular collaborations
she_engine = SHEEngine()
social_complex = SHEDataLoader.from_networkx(G, include_cliques=True, max_clique_size=4)
she_engine.register_complex("social_network", social_complex)

# Analyze with SHE
analysis = she_engine.analyze_topology("social_network")

print("\n🔺 SHE Simplicial Analysis:")
print(f"0-simplices (individuals): {analysis['basic_stats']['num_nodes']}")
print(f"1-simplices (connections): {analysis['basic_stats']['num_edges']}")
print(f"2-simplices (team triangles): {analysis['basic_stats']['num_triangles']}")
print(f"Betti numbers: {analysis['topological_invariants']['betti_numbers']}")
print(f"Euler characteristic: {analysis['topological_invariants']['euler_characteristic']}")

plt.subplot(1, 2, 2)
# Enhanced visualization showing triangular structures
triangles = list(social_complex.complex.skeleton(2))
triangle_edges = []
for triangle in triangles:
    triangle_list = list(triangle)
    if len(triangle_list) == 3:
        for i in range(3):
            for j in range(i+1, 3):
                triangle_edges.append((triangle_list[i], triangle_list[j]))

nx.draw(G, pos, with_labels=True, node_color='lightcoral', 
        node_size=1000, font_size=10, font_weight='bold')
nx.draw_networkx_edges(G, pos, edgelist=triangle_edges, 
                      edge_color='red', width=3, alpha=0.7)
plt.title("SHE Simplicial View\n(Red = Triangular Collaborations)")

plt.tight_layout()
plt.show()
```

### Why Simplicial Complexes Matter

```python
print("🧠 Why SHE > Traditional Graphs:")
print("=" * 40)
print("Traditional graphs only capture:")
print("  • Pairwise relationships (Alice ↔ Bob)")
print("  • Binary connections")
print("  • Limited structural information")
print()
print("SHE captures:")
print("  • Multi-way interactions (Alice-Bob-Charlie team)")
print("  • Higher-order structures (triangles, tetrahedra)")
print("  • Topological invariants (holes, connectivity)")
print("  • Persistent features across scales")
```

## 🧬 Chapter 2: Multi-Domain Applications

### 2.1 Neuroscience: Brain Connectivity

```python
def simulate_brain_network():
    """Simulate brain connectivity with co-activation patterns"""
    # Create brain regions
    regions = [f"Region_{i:02d}" for i in range(20)]
    
    # Simulate connectivity matrix
    n_regions = len(regions)
    connectivity = np.random.rand(n_regions, n_regions)
    connectivity = (connectivity + connectivity.T) / 2  # Make symmetric
    connectivity[connectivity < 0.3] = 0  # Sparsify
    
    # Create network
    G = nx.Graph()
    for i, region in enumerate(regions):
        for j, other_region in enumerate(regions[i+1:], i+1):
            if connectivity[i, j] > 0:
                G.add_edge(region, other_region, weight=connectivity[i, j])
    
    return G, connectivity

# Generate brain network
brain_G, connectivity_matrix = simulate_brain_network()
brain_complex = SHEDataLoader.from_networkx(brain_G, include_cliques=True)

print("🧠 Neuroscience Application:")
print("=" * 30)

# Find functional modules (triangular co-activations)
triangular_coactivations = list(brain_complex.complex.skeleton(2))
print(f"Detected {len(triangular_coactivations)} triangular co-activation patterns")

# Example: Analyze a specific triangle
if triangular_coactivations:
    example_triangle = list(triangular_coactivations[0])
    if len(example_triangle) == 3:
        print(f"Example co-activation: {' ↔ '.join(example_triangle)}")
        
        # Compute strength of this co-activation
        triangle_weights = []
        for i in range(3):
            for j in range(i+1, 3):
                if brain_G.has_edge(example_triangle[i], example_triangle[j]):
                    triangle_weights.append(brain_G[example_triangle[i]][example_triangle[j]]['weight'])
        
        if triangle_weights:
            print(f"Co-activation strength: {np.mean(triangle_weights):.3f}")

# Visualize brain connectivity
plt.figure(figsize=(15, 5))

plt.subplot(1, 3, 1)
plt.imshow(connectivity_matrix, cmap='Reds')
plt.title("Connectivity Matrix")
plt.colorbar()

plt.subplot(1, 3, 2)
pos = nx.spring_layout(brain_G, seed=42)
nx.draw(brain_G, pos, node_size=300, node_color='lightblue', 
        font_size=6, with_labels=False)
plt.title("Pairwise Connections")

plt.subplot(1, 3, 3)
# Highlight triangular structures
triangular_nodes = set()
for triangle in triangular_coactivations:
    triangular_nodes.update(triangle)

node_colors = ['red' if node in triangular_nodes else 'lightblue' 
               for node in brain_G.nodes()]
nx.draw(brain_G, pos, node_size=300, node_color=node_colors, 
        font_size=6, with_labels=False)
plt.title("Higher-Order Structures\n(Red = Part of triangular co-activation)")

plt.tight_layout()
plt.show()
```

### 2.2 Financial Networks: Market Interdependencies

```python
def simulate_financial_network():
    """Simulate financial market with sector correlations"""
    # Define sectors and companies
    sectors = {
        'Tech': ['AAPL', 'GOOGL', 'MSFT', 'AMZN'],
        'Finance': ['JPM', 'BAC', 'WFC', 'GS'],
        'Healthcare': ['JNJ', 'PFE', 'UNH', 'ABBV'],
        'Energy': ['XOM', 'CVX', 'COP', 'SLB']
    }
    
    all_stocks = [stock for sector_stocks in sectors.values() for stock in sector_stocks]
    
    # Create correlation matrix
    n_stocks = len(all_stocks)
    correlations = np.random.rand(n_stocks, n_stocks)
    correlations = (correlations + correlations.T) / 2
    
    # Higher correlations within sectors
    stock_to_sector = {}
    for sector, stocks in sectors.items():
        for stock in stocks:
            stock_to_sector[stock] = sector
    
    for i, stock1 in enumerate(all_stocks):
        for j, stock2 in enumerate(all_stocks):
            if stock_to_sector[stock1] == stock_to_sector[stock2]:
                correlations[i, j] *= 1.5  # Boost intra-sector correlations
    
    # Create network from high correlations
    G = nx.Graph()
    for i, stock1 in enumerate(all_stocks):
        for j, stock2 in enumerate(all_stocks[i+1:], i+1):
            if correlations[i, j] > 0.6:  # Threshold for significant correlation
                G.add_edge(stock1, stock2, weight=correlations[i, j])
    
    return G, sectors, correlations

# Generate financial network
finance_G, sectors, correlation_matrix = simulate_financial_network()
finance_complex = SHEDataLoader.from_networkx(finance_G, include_cliques=True)

print("💰 Financial Markets Application:")
print("=" * 35)

# Register and analyze
she_engine.register_complex("financial_markets", finance_complex)
finance_analysis = she_engine.analyze_topology("financial_markets")

print(f"Stocks analyzed: {finance_analysis['basic_stats']['num_nodes']}")
print(f"Significant correlations: {finance_analysis['basic_stats']['num_edges']}")
print(f"Triangular risk clusters: {finance_analysis['basic_stats']['num_triangles']}")

# Find systemic risk patterns (triangular interdependencies)
risk_triangles = list(finance_complex.complex.skeleton(2))
print(f"\n🚨 Detected {len(risk_triangles)} systemic risk patterns")

# Analyze sector composition of triangles
sector_triangles = []
all_stocks = list(finance_G.nodes())
stock_to_sector = {}
for sector, stocks in sectors.items():
    for stock in stocks:
        if stock in all_stocks:
            stock_to_sector[stock] = sector

for triangle in risk_triangles:
    triangle_list = list(triangle)
    if len(triangle_list) == 3:
        triangle_sectors = [stock_to_sector.get(stock, 'Unknown') for stock in triangle_list]
        sector_triangles.append(triangle_sectors)

# Count cross-sector vs intra-sector triangles
cross_sector = sum(1 for sectors_in_triangle in sector_triangles 
                   if len(set(sectors_in_triangle)) > 1)
intra_sector = len(sector_triangles) - cross_sector

print(f"Cross-sector risk triangles: {cross_sector}")
print(f"Intra-sector risk triangles: {intra_sector}")
print(f"Systemic risk ratio: {cross_sector/max(1, len(sector_triangles)):.2f}")
```

### 2.3 Social Intelligence: Team Dynamics

```python
def simulate_organization():
    """Simulate organizational structure with projects and teams"""
    # Define teams and members
    teams = {
        'Engineering': ['Alice', 'Bob', 'Charlie', 'David'],
        'Design': ['Eve', 'Frank', 'Grace'],
        'Marketing': ['Henry', 'Iris', 'Jack'],
        'Management': ['Kate', 'Liam']
    }
    
    # Define cross-functional projects (higher-order interactions)
    projects = [
        ['Alice', 'Eve', 'Henry'],      # Product launch team
        ['Bob', 'Frank', 'Iris'],       # Campaign team  
        ['Charlie', 'Grace', 'Jack'],   # Research team
        ['David', 'Kate'],              # Strategy team
        ['Alice', 'David', 'Liam'],     # Technical leadership
        ['Eve', 'Henry', 'Kate']        # Creative leadership
    ]
    
    return teams, projects

teams, projects = simulate_organization()

# Build simplicial complex from organizational structure
org_complex = SHESimplicialComplex("organization")

# Add individuals (0-simplices)
all_people = [person for team_members in teams.values() for person in team_members]
for person in all_people:
    org_complex.add_node(person)

# Add team relationships (cliques within teams)
for team_name, members in teams.items():
    for i in range(len(members)):
        for j in range(i+1, len(members)):
            org_complex.add_edge((members[i], members[j]), 
                               features={'relationship': 'same_team', 'team': team_name})

# Add project collaborations (higher-order simplices)
for i, project_members in enumerate(projects):
    if len(project_members) >= 3:
        org_complex.add_simplex(project_members, 
                               features={'type': 'project', 'project_id': i})

print("🏢 Organizational Analysis:")
print("=" * 28)

# Analyze organizational topology
she_engine.register_complex("organization", org_complex)
org_analysis = she_engine.analyze_topology("organization")

print(f"People: {org_analysis['basic_stats']['num_nodes']}")
print(f"Direct relationships: {org_analysis['basic_stats']['num_edges']}")
print(f"Project collaborations: {org_analysis['basic_stats']['num_triangles']}")

# Find key collaborators (high betweenness in simplicial structure)
project_triangles = list(org_complex.complex.skeleton(2))
person_project_count = {}
for triangle in project_triangles:
    for person in triangle:
        person_project_count[person] = person_project_count.get(person, 0) + 1

print("\n👥 Most collaborative individuals:")
sorted_collaborators = sorted(person_project_count.items(), 
                             key=lambda x: x[1], reverse=True)
for person, count in sorted_collaborators[:5]:
    print(f"  {person}: {count} project collaborations")

# Visualize organizational structure
plt.figure(figsize=(12, 8))

# Create graph representation for visualization
G_org = nx.Graph()
for person in all_people:
    G_org.add_node(person)

for team_name, members in teams.items():
    for i in range(len(members)):
        for j in range(i+1, len(members)):
            G_org.add_edge(members[i], members[j])

pos = nx.spring_layout(G_org, seed=42)

# Color nodes by team
team_colors = {'Engineering': 'lightblue', 'Design': 'lightgreen', 
               'Marketing': 'lightcoral', 'Management': 'gold'}
node_colors = []
for person in G_org.nodes():
    person_team = next((team for team, members in teams.items() if person in members), 'Unknown')
    node_colors.append(team_colors.get(person_team, 'gray'))

# Draw base network
nx.draw(G_org, pos, node_color=node_colors, node_size=800, 
        with_labels=True, font_size=8, font_weight='bold')

# Highlight project triangles
for project in projects:
    if len(project) == 3:
        triangle_edges = [(project[0], project[1]), 
                         (project[1], project[2]), 
                         (project[2], project[0])]
        nx.draw_networkx_edges(G_org, pos, edgelist=triangle_edges,
                              edge_color='red', width=3, alpha=0.6)

plt.title("Organizational Structure\n(Red edges = Project collaborations)")
plt.legend(handles=[plt.Line2D([0], [0], marker='o', color='w', 
                              markerfacecolor=color, markersize=10, label=team)
                   for team, color in team_colors.items()], 
          loc='upper right')
plt.show()
```

## 🔬 Chapter 3: Advanced Topological Analysis

### 3.1 Persistent Homology

```python
# Create a complex that evolves over time (filtration)
def create_evolving_complex():
    """Create a complex that grows over time to demonstrate persistence"""
    
    # Generate points in 2D with some structure
    n_points = 30
    
    # Create two clusters
    cluster1 = np.random.normal([2, 2], 0.5, (n_points//2, 2))
    cluster2 = np.random.normal([6, 6], 0.5, (n_points//2, 2))
    points = np.vstack([cluster1, cluster2])
    
    # Add some noise points
    noise_points = np.random.uniform([0, 0], [8, 8], (5, 2))
    points = np.vstack([points, noise_points])
    
    return points

# Generate point cloud
points = create_evolving_complex()

# Create Vietoris-Rips complex with filtration
if hasattr(she_engine, 'persistence_analyzer'):
    print("🔄 Persistent Homology Analysis:")
    print("=" * 35)
    
    # Create complex from point cloud
    try:
        point_complex = SHEDataLoader.from_point_cloud(points, max_dimension=2, max_edge_length=3.0)
        she_engine.register_complex("point_cloud", point_complex)
        
        # Compute persistence
        persistence_result = she_engine.persistence_analyzer.compute_persistence(point_complex)
        
        print("Persistence computation completed!")
        print(f"Backend used: {persistence_result.get('backend', 'unknown')}")
        
        if 'diagrams' in persistence_result:
            for dim, diagram in persistence_result['diagrams'].items():
                finite_pairs = [p for p in diagram if p[1] != float('inf')]
                infinite_pairs = [p for p in diagram if p[1] == float('inf')]
                print(f"{dim}: {len(finite_pairs)} finite + {len(infinite_pairs)} infinite features")
    
    except Exception as e:
        print(f"Persistence computation failed: {e}")
        print("This likely requires Gudhi or Giotto-TDA to be properly installed")

# Visualize the point cloud and its structure
plt.figure(figsize=(15, 5))

plt.subplot(1, 3, 1)
plt.scatter(points[:, 0], points[:, 1], alpha=0.7, s=50)
plt.title("Original Point Cloud")
plt.axis('equal')

plt.subplot(1, 3, 2)
# Show connections at small scale
from scipy.spatial.distance import pdist, squareform
distances = squareform(pdist(points))
threshold1 = 1.0

connected_pairs = []
for i in range(len(points)):
    for j in range(i+1, len(points)):
        if distances[i, j] < threshold1:
            connected_pairs.append((i, j))

plt.scatter(points[:, 0], points[:, 1], alpha=0.7, s=50)
for i, j in connected_pairs:
    plt.plot([points[i, 0], points[j, 0]], [points[i, 1], points[j, 1]], 
             'r-', alpha=0.3, linewidth=1)
plt.title(f"Connections at scale {threshold1}")
plt.axis('equal')

plt.subplot(1, 3, 3)
# Show connections at larger scale
threshold2 = 2.0
connected_pairs2 = []
for i in range(len(points)):
    for j in range(i+1, len(points)):
        if distances[i, j] < threshold2:
            connected_pairs2.append((i, j))

plt.scatter(points[:, 0], points[:, 1], alpha=0.7, s=50)
for i, j in connected_pairs2:
    plt.plot([points[i, 0], points[j, 0]], [points[i, 1], points[j, 1]], 
             'r-', alpha=0.3, linewidth=1)
plt.title(f"Connections at scale {threshold2}")
plt.axis('equal')

plt.tight_layout()
plt.show()

print("\n🕳️ Topological Features:")
print("At small scales: Individual points (0-dimensional features)")
print("At medium scales: Connected components emerge")  
print("At large scales: Loops may form and disappear")
print("Persistent features survive across multiple scales!")
```

### 3.2 Spectral Analysis of Simplicial Complexes

```python
def analyze_simplicial_spectra():
    """Analyze the spectral properties of simplicial Laplacians"""
    
    # Create a more interesting complex for spectral analysis
    G = nx.karate_club_graph()
    karate_complex = SHEDataLoader.from_networkx(G, include_cliques=True)
    
    print("🌊 Spectral Analysis of Simplicial Laplacians:")
    print("=" * 48)
    
    # Get Laplacian matrices
    laplacians = karate_complex.get_laplacian_matrices()
    
    plt.figure(figsize=(15, 10))
    
    for i, (matrix_name, L_matrix) in enumerate(laplacians.items()):
        if L_matrix.shape[0] > 0:
            # Convert sparse tensor to numpy
            L_dense = L_matrix.to_dense().numpy()
            
            # Compute eigenvalues
            eigenvals = np.linalg.eigvals(L_dense)
            eigenvals = np.sort(np.real(eigenvals))  # Take real part and sort
            
            plt.subplot(2, 3, i + 1)
            plt.plot(eigenvals, 'o-', alpha=0.7, markersize=4)
            plt.title(f'{matrix_name} Spectrum\\n({len(eigenvals)} eigenvalues)')
            plt.xlabel('Index')
            plt.ylabel('Eigenvalue')
            plt.grid(True, alpha=0.3)
            
            print(f"{matrix_name}:")
            print(f"  Matrix size: {L_matrix.shape}")
            print(f"  Spectral gap: {eigenvals[1] - eigenvals[0]:.4f}")
            print(f"  Max eigenvalue: {eigenvals[-1]:.4f}")
            
            # Spectral gap indicates connectivity
            if eigenvals[1] > 1e-10:  # Non-zero second eigenvalue
                print(f"  Algebraic connectivity: {eigenvals[1]:.4f}")
            else:
                print(f"  Disconnected structure detected")
            print()
    
    # Compare with traditional graph Laplacian
    plt.subplot(2, 3, len(laplacians) + 1)
    graph_laplacian = nx.laplacian_matrix(G).toarray()
    graph_eigenvals = np.sort(np.linalg.eigvals(graph_laplacian))
    
    plt.plot(graph_eigenvals, 's-', alpha=0.7, markersize=4, color='green')
    plt.title('Traditional Graph Laplacian\\n(for comparison)')
    plt.xlabel('Index')
    plt.ylabel('Eigenvalue')
    plt.grid(True, alpha=0.3)
    
    plt.tight_layout()
    plt.show()
    
    return laplacians

laplacians = analyze_simplicial_spectra()

print("🔍 Key Insights:")
print("• L_0 (node Laplacian): Reveals community structure")
print("• L_1 (edge Laplacian): Captures edge flow and circulation") 
print("• L_2 (face Laplacian): Detects higher-order holes and voids")
print("• Spectral gaps indicate structural stability")
print("• Multiple scales of connectivity revealed simultaneously")
```

## 🤖 Chapter 4: Simplicial Neural Networks

### 4.1 Node Classification with Simplicial Features

```python
# Note: This section demonstrates the concept, but actual TopoX integration
# requires the full neural network implementation

print("🧠 Simplicial Neural Networks:")
print("=" * 32)
print("SHE integrates with TopoX for powerful simplicial neural networks:")
print()
print("Key Advantages over Graph Neural Networks:")
print("• Process node AND edge features simultaneously")
print("• Capture higher-order neighborhood structures") 
print("• Leverage topological inductive biases")
print("• Better expressiveness for complex relationships")
print()

# Simulate what a simplicial neural network would capture
def simulate_snn_analysis():
    """Simulate the kind of analysis SNN would perform"""
    
    # Create a synthetic dataset
    G = nx.karate_club_graph()
    
    # Add synthetic features
    node_features = {}
    for node in G.nodes():
        # Simulate node features (e.g., user attributes)
        features = {
            'activity_level': np.random.normal(0.5, 0.2),
            'influence_score': np.random.normal(0.3, 0.1),
            'engagement_rate': np.random.normal(0.4, 0.15)
        }
        node_features[node] = features
        G.nodes[node].update(features)
    
    # Create complex with features
    complex_with_features = SHEDataLoader.from_networkx(G, include_cliques=True)
    
    # Simulate edge features based on triangular participation
    triangles = list(complex_with_features.complex.skeleton(2))
    edge_importance = {}
    
    for edge in G.edges():
        # Count how many triangles this edge participates in
        triangle_count = 0
        edge_set = set(edge)
        for triangle in triangles:
            if len(triangle) == 3 and edge_set.issubset(set(triangle)):
                triangle_count += 1
        
        edge_importance[edge] = triangle_count
    
    print("📊 Simplicial Feature Analysis:")
    print(f"Nodes with features: {len(node_features)}")
    print(f"Edges analyzed: {len(edge_importance)}")
    print(f"Triangular structures: {len(triangles)}")
    
    # Show how triangular participation affects edge importance
    max_triangle_participation = max(edge_importance.values()) if edge_importance else 0
    high_order_edges = [edge for edge, count in edge_importance.items() 
                       if count == max_triangle_participation and count > 0]
    
    print(f"\\nEdges in most triangles ({max_triangle_participation}): {len(high_order_edges)}")
    
    # Visualize the enhanced structure
    plt.figure(figsize=(12, 5))
    
    plt.subplot(1, 2, 1)
    pos = nx.spring_layout(G, seed=42)
    
    # Color nodes by activity level
    node_colors = [node_features[node]['activity_level'] for node in G.nodes()]
    nx.draw(G, pos, node_color=node_colors, cmap='viridis', 
            node_size=300, with_labels=True, font_size=8)
    plt.title("Node Features\\n(Color = Activity Level)")
    plt.colorbar(plt.cm.ScalarMappable(cmap='viridis'), ax=plt.gca())
    
    plt.subplot(1, 2, 2)
    # Highlight edges by triangular participation
    edge_colors = []
    edge_widths = []
    for edge in G.edges():
        participation = edge_importance.get(edge, 0)
        edge_colors.append(participation)
        edge_widths.append(1 + participation * 2)
    
    nx.draw(G, pos, node_color='lightblue', node_size=300, 
            with_labels=True, font_size=8)
    nx.draw_networkx_edges(G, pos, edge_color=edge_colors, 
                          width=edge_widths, edge_cmap=plt.cm.Reds)
    plt.title("Edge Features\\n(Color/Width = Triangle Participation)")
    
    plt.tight_layout()
    plt.show()
    
    return complex_with_features, node_features, edge_importance

complex_with_features, node_features, edge_importance = simulate_snn_analysis()

print("\\n🚀 What Simplicial Neural Networks Enable:")
print("• Joint learning on nodes, edges, and higher-order structures")
print("• Message passing through simplicial neighborhoods")
print("• Topologically-aware feature aggregation")
print("• Better performance on tasks requiring higher-order reasoning")
```

### 4.2 Comparing GNN vs SNN Performance (Conceptual)

```python
print("📈 GNN vs SNN Performance Comparison:")
print("=" * 40)

# Simulate performance comparison
tasks = ['Node Classification', 'Link Prediction', 'Graph Classification', 'Community Detection']
gnn_performance = [0.82, 0.76, 0.89, 0.71]
snn_performance = [0.87, 0.83, 0.94, 0.81]  # Higher due to higher-order features

improvement = [(s - g) / g * 100 for g, s in zip(gnn_performance, snn_performance)]

plt.figure(figsize=(12, 6))

x = np.arange(len(tasks))
width = 0.35

plt.subplot(1, 2, 1)
bars1 = plt.bar(x - width/2, gnn_performance, width, label='Traditional GNN
