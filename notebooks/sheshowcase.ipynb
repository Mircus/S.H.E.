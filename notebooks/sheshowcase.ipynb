{
 "cells": [
  {
   "cell_type": "markdown",
   "id": "d71f6c2c",
   "metadata": {},
   "source": [
    "# SHE - Simplicial Hyperstructure Engine 🧭\n",
    "**Showcase Notebook: Beyond Graphs into Simplicial Topology**\n",
    "\n",
    "Welcome to **SHE (Simplicial Hyperstructure Engine)** - a computational framework for modeling, analyzing, and learning from complex systems using simplicial complexes and topological data analysis."
   ]
  },
  {
   "cell_type": "markdown",
   "id": "67acda12",
   "metadata": {},
   "source": [
    "## 🚀 Installation & Setup"
   ]
  },
  {
   "cell_type": "code",
   "execution_count": null,
   "id": "c7d9b43a",
   "metadata": {},
   "outputs": [],
   "source": [
    "# Install core dependencies\n",
    "# !pip install toponetx torch torch-geometric\n",
    "# !pip install giotto-tda gudhi\n",
    "# !pip install networkx pandas numpy matplotlib seaborn\n",
    "# !pip install plotly streamlit\n",
    "# !pip install pytorch-lightning"
   ]
  },
  {
   "cell_type": "code",
   "execution_count": null,
   "id": "bdb8c719",
   "metadata": {},
   "outputs": [],
   "source": [
    "import numpy as np\n",
    "import pandas as pd\n",
    "import matplotlib.pyplot as plt\n",
    "import seaborn as sns\n",
    "import networkx as nx\n",
    "import torch\n",
    "import warnings\n",
    "warnings.filterwarnings('ignore')\n",
    "\n",
    "# Import SHE modules (assuming they're in your path)\n",
    "from she_core import SHEEngine, SHESimplicialComplex, SHEDataLoader, SHEConfig\n",
    "from she_neural import SHESimplicialConvolutionalNetwork, SHENeuralEngine\n",
    "\n",
    "np.random.seed(42)\n",
    "torch.manual_seed(42)\n",
    "\n",
    "print(\"🧭 SHE - Simplicial Hyperstructure Engine\")\n",
    "print(\"=\" * 50)"
   ]
  }
 ],
 "metadata": {},
 "nbformat": 4,
 "nbformat_minor": 5
}


plt.subplot(1, 2, 1)
bars1 = plt.bar(x - width/2, gnn_performance, width, label='Traditional GNN
