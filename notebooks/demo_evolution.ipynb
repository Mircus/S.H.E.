{
 "cells": [
  {
   "cell_type": "markdown",
   "id": "a05e6926",
   "metadata": {},
   "source": [
    "# 🎯 SHE Simulation Demo\n",
    "This notebook demonstrates:\n",
    "- Construction of synthetic simplicial complexes\n",
    "- Influence score simulation\n",
    "- Diffuser selection and diffusion process\n",
    "- Evaluation of diffusion coverage"
   ]
  },
  {
   "cell_type": "code",
   "execution_count": null,
   "id": "efeea8bc",
   "metadata": {},
   "outputs": [],
   "source": [
    "import torch\n",
    "import numpy as np\n",
    "import xgi\n",
    "from src.simulator import simulate_diffusion\n",
    "from src.diffuser_selection import select_top_k\n",
    "from src.evaluator import evaluate_diffusion"
   ]
  },
  {
   "cell_type": "code",
   "execution_count": null,
   "id": "cd64e360",
   "metadata": {},
   "outputs": [],
   "source": [
    "# Step 1: Create synthetic simplicial complex\n",
    "H = xgi.Hypergraph()\n",
    "H.add_edges_from([[0, 1], [1, 2, 3], [2, 4], [3, 4, 5]])\n",
    "num_nodes = len(H.nodes)\n",
    "print(\"Simplicial complex:\", H.edges)"
   ]
  },
  {
   "cell_type": "code",
   "execution_count": null,
   "id": "38ab4173",
   "metadata": {},
   "outputs": [],
   "source": [
    "# Step 2: Simulate influence scores (placeholder scores)\n",
    "influence_scores = torch.rand((num_nodes, 1))  # random scores\n",
    "print(\"Influence scores:\", influence_scores.view(-1))"
   ]
  },
  {
   "cell_type": "code",
   "execution_count": null,
   "id": "75b2d2b3",
   "metadata": {},
   "outputs": [],
   "source": [
    "# Step 3: Select top-k influential nodes\n",
    "top_k = select_top_k(influence_scores, k=2)\n",
    "print(\"Selected seed nodes:\", top_k)"
   ]
  },
  {
   "cell_type": "code",
   "execution_count": null,
   "id": "f6319c23",
   "metadata": {},
   "outputs": [],
   "source": [
    "# Step 4: Simulate diffusion from seeds\n",
    "reached = simulate_diffusion(H, top_k, steps=3)\n",
    "print(\"Nodes reached through diffusion:\", reached)"
   ]
  },
  {
   "cell_type": "code",
   "execution_count": null,
   "id": "ae36583b",
   "metadata": {},
   "outputs": [],
   "source": [
    "# Step 5: Evaluate diffusion\n",
    "eval_metrics = evaluate_diffusion(top_k, reached, total_nodes=num_nodes)\n",
    "print(\"Evaluation metrics:\", eval_metrics)"
   ]
  }
 ],
 "metadata": {},
 "nbformat": 4,
 "nbformat_minor": 5
}
